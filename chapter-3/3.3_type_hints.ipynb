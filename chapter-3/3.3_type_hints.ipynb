{
 "cells": [
  {
   "metadata": {},
   "cell_type": "markdown",
   "source": [
    "# Type hint\n",
    "Type hint is an annotation we use when we want to implement a static variable inside python, it's also helpful, when we want to check the return value of a function as we expect.\n",
    "\n",
    "Type hints define the expected type for variables and function arguments. Example:"
   ],
   "id": "83ac94affd59041c"
  },
  {
   "metadata": {
    "ExecuteTime": {
     "end_time": "2025-09-15T20:56:34.459664Z",
     "start_time": "2025-09-15T20:56:34.453714Z"
    }
   },
   "cell_type": "code",
   "source": [
    "age: int = 25\n",
    "def greet(name: str) -> str:\n",
    "    return f\"Hello, {name}!\"\n",
    "greet(\"Danilo\")"
   ],
   "id": "2f78fceedcecc534",
   "outputs": [
    {
     "data": {
      "text/plain": [
       "'Hello, Danilo!'"
      ]
     },
     "execution_count": 28,
     "metadata": {},
     "output_type": "execute_result"
    }
   ],
   "execution_count": 28
  },
  {
   "metadata": {},
   "cell_type": "markdown",
   "source": [
    "Here, as we can see, the function greet(), expect a variable name that's a string:\n",
    "- The annotation is `name: variable_type` for instance `name: str`\n",
    "- The function as a -> arrow statement at the end, that means we expect to return a specif type value, for instance we expect to return a str value `-> return value we expect`"
   ],
   "id": "9c769e6f5138552c"
  },
  {
   "metadata": {
    "ExecuteTime": {
     "end_time": "2025-09-11T21:09:17.352541Z",
     "start_time": "2025-09-11T21:09:17.348489Z"
    }
   },
   "cell_type": "code",
   "source": [
    "def sum_of_two_variable(a: int, b: int) -> int:\n",
    "    return a + b\n",
    "sum_of_two_variable(3.2, 5)"
   ],
   "id": "9f901abee650d6c2",
   "outputs": [
    {
     "data": {
      "text/plain": [
       "8.2"
      ]
     },
     "execution_count": 9,
     "metadata": {},
     "output_type": "execute_result"
    }
   ],
   "execution_count": 9
  },
  {
   "metadata": {},
   "cell_type": "markdown",
   "source": [
    "Now we can try with these exercises, that can help us to understand, why it's so helpful to use type hints in python\n",
    "# 🟢 Easy Mode\n",
    "1. Write a function that takes a string and returns its length"
   ],
   "id": "d8071a7e476e4c2f"
  },
  {
   "metadata": {
    "ExecuteTime": {
     "end_time": "2025-09-11T21:17:22.523124Z",
     "start_time": "2025-09-11T21:17:22.518228Z"
    }
   },
   "cell_type": "code",
   "source": [
    "def str_length(string_to_analyze: str) -> int:\n",
    "    if isinstance(string_to_analyze, str):\n",
    "        return len(string_to_analyze)\n",
    "    else: return 0\n",
    "str_length(\"Giovanni\")"
   ],
   "id": "de8e49a04514b710",
   "outputs": [
    {
     "data": {
      "text/plain": [
       "8"
      ]
     },
     "execution_count": 19,
     "metadata": {},
     "output_type": "execute_result"
    }
   ],
   "execution_count": 19
  },
  {
   "metadata": {},
   "cell_type": "markdown",
   "source": "2. Write a function that takes a float temperature in Celsius and returns Fahrenheit.",
   "id": "fc37072cc69c572b"
  },
  {
   "metadata": {
    "ExecuteTime": {
     "end_time": "2025-09-15T21:01:00.373625Z",
     "start_time": "2025-09-15T21:01:00.369290Z"
    }
   },
   "cell_type": "code",
   "source": [
    "def fahrenheit_converter(celsius: float) -> float:\n",
    "    return (celsius * 1.8) + 32\n",
    "celsius_temperature: float = 18.0\n",
    "fahrenheit_temperature  = fahrenheit_converter(celsius_temperature)\n",
    "print(f\"The celsius value is {celsius_temperature} converted in fahrenheit is {fahrenheit_temperature}\")"
   ],
   "id": "ebdc60cdefcee404",
   "outputs": [
    {
     "name": "stdout",
     "output_type": "stream",
     "text": [
      "The celsius value is 18.0 converted in fahrenheit is 64.4\n"
     ]
    }
   ],
   "execution_count": 30
  },
  {
   "metadata": {},
   "cell_type": "markdown",
   "source": [
    "# 🟡 Medium Level\n",
    "Write a function that takes a list of integers and returns the average as a float."
   ],
   "id": "ba07d4b741926f4c"
  },
  {
   "metadata": {
    "ExecuteTime": {
     "end_time": "2025-09-11T21:20:08.609505Z",
     "start_time": "2025-09-11T21:20:08.605502Z"
    }
   },
   "cell_type": "code",
   "source": [
    "# With from typing import we can declare Lists, Tuples, Sets and Dictionaries\n",
    "from typing import List, Optional, Tuple\n",
    "\n",
    "\n",
    "def avg_of_numbers(list_of_integers: List[int]) -> float:\n",
    "    return sum(list_of_integers) / len(list_of_integers)\n",
    "\n",
    "example_number_list: List[int] = [1, 3, 5, 6 ,9]\n",
    "print(f\"The average of the list {example_number_list} is of: {avg_of_numbers(example_number_list)}\")"
   ],
   "id": "2241f45d2e8cf3b7",
   "outputs": [
    {
     "name": "stdout",
     "output_type": "stream",
     "text": [
      "The average of the list [1, 3, 5, 6, 9] is of: 4.8\n"
     ]
    }
   ],
   "execution_count": 20
  },
  {
   "metadata": {},
   "cell_type": "markdown",
   "source": "Write a function that takes a dictionary of student names (str) to grades (float) and returns the student with the highest grade.\n",
   "id": "fbfb1d5dd06c2ad8"
  },
  {
   "metadata": {
    "ExecuteTime": {
     "end_time": "2025-09-16T19:31:59.079354Z",
     "start_time": "2025-09-16T19:31:59.073697Z"
    }
   },
   "cell_type": "code",
   "source": [
    "from typing import Dict\n",
    "from typing import List\n",
    "def best_student(student_dict: Dict[str, float]) -> Dict[str, float]:\n",
    "    best_student_dict: Dict[str, float] = dict()\n",
    "    max_grade: float = max(student_dict.values())\n",
    "    names = [k for k, v in student_dict.items() if v == max_grade]\n",
    "    for value in names:\n",
    "        # When we return a dict we can either declare it in this way\n",
    "        best_student_dict.update({value:max_grade})\n",
    "    return best_student_dict\n",
    "\n",
    "# To define the type hint of the dict it's Dict[key,value]\n",
    "students: Dict[str, float] = dict()\n",
    "the_best_student = dict()\n",
    "students.update({\"Danilo\": 2.0, \"Pirlo\": 4.9, \"Lorenzo\": 10, \"Francesco\": 10})\n",
    "the_best_student.update(best_student(students))\n",
    "print(the_best_student)"
   ],
   "id": "feeab04abedfecae",
   "outputs": [
    {
     "name": "stdout",
     "output_type": "stream",
     "text": [
      "{'Lorenzo': 10, 'Francesco': 10}\n"
     ]
    }
   ],
   "execution_count": 11
  },
  {
   "metadata": {},
   "cell_type": "markdown",
   "source": "Write a function that takes an optional string (None allowed) and returns its uppercase version or \"EMPTY\".",
   "id": "610f6f884a9fefa8"
  },
  {
   "metadata": {
    "ExecuteTime": {
     "end_time": "2025-09-19T19:20:38.723795Z",
     "start_time": "2025-09-19T19:20:37.810988Z"
    }
   },
   "cell_type": "code",
   "source": [
    "qfrom typing import Optional\n",
    "def upper_case(lower_case_string: str) -> Optional[str]:\n",
    "    if lower_case_string != \"\":\n",
    "        return str.upper(lower_case_string)\n",
    "    else: return \"EMPTY\"\n",
    "\n",
    "example_string = input(\"Write the string that you want to convert in lowercase\\n==>\")\n",
    "print(f\"From the lower case string: {example_string} to the upper case one {upper_case(example_string)}\")"
   ],
   "id": "d07a3438b56369e4",
   "outputs": [
    {
     "name": "stdout",
     "output_type": "stream",
     "text": [
      "From the lower case string:  to the upper case one EMPTY\n"
     ]
    }
   ],
   "execution_count": 9
  },
  {
   "metadata": {},
   "cell_type": "markdown",
   "source": "Write a function that takes a tuple (name: str, age: int, city: str) and returns a formatted string like \"Alice (30) from Rome\".",
   "id": "ab68a48a99386b11"
  },
  {
   "metadata": {
    "ExecuteTime": {
     "end_time": "2025-09-19T19:19:43.780014Z",
     "start_time": "2025-09-19T19:19:43.775057Z"
    }
   },
   "cell_type": "code",
   "source": [
    "from typing import Tuple\n",
    "def string_formatter(tuple_to_format: Tuple[str,int,str]) -> str:\n",
    "    # Tuple unpacking where we are able to save the values from a tuple into severala variables\n",
    "    name, age, city = tuple_to_format\n",
    "    formatted_string = f\"I'm {name}, {age} years old and I live in {city}\"\n",
    "    return formatted_string\n",
    "\n",
    "person_tuple = tuple()\n",
    "name: str = \"Alice\"\n",
    "age: int = 23\n",
    "city: str = \"Milan\"\n",
    "person_tuple = (name, age, city)\n",
    "print(string_formatter(person_tuple))"
   ],
   "id": "170aa8eb9453731e",
   "outputs": [
    {
     "name": "stdout",
     "output_type": "stream",
     "text": [
      "I'm Alice, 23 years old and I live in Milan\n"
     ]
    }
   ],
   "execution_count": 1
  }
 ],
 "metadata": {
  "kernelspec": {
   "display_name": "Python 3",
   "language": "python",
   "name": "python3"
  },
  "language_info": {
   "codemirror_mode": {
    "name": "ipython",
    "version": 2
   },
   "file_extension": ".py",
   "mimetype": "text/x-python",
   "name": "python",
   "nbconvert_exporter": "python",
   "pygments_lexer": "ipython2",
   "version": "2.7.6"
  }
 },
 "nbformat": 4,
 "nbformat_minor": 5
}
