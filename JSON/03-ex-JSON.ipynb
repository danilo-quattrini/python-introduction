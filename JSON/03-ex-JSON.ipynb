{
 "cells": [
  {
   "metadata": {},
   "cell_type": "markdown",
   "source": [
    "# Easy Mode\n",
    "- Create a Python dictionary of your personal details (name, age, hobbies). Save it in a file me.json.\n"
   ],
   "id": "b499fb05e8ed72ed"
  },
  {
   "metadata": {
    "ExecuteTime": {
     "end_time": "2025-08-25T22:42:23.404367Z",
     "start_time": "2025-08-25T22:42:23.399060Z"
    }
   },
   "cell_type": "code",
   "source": [
    "import json\n",
    "from calendar import firstweekday\n",
    "\n",
    "my_info = {\n",
    "    \"Person\":{\n",
    "    \"name\": \"Danilo\", \"surname\": \"Quattrini\", \"age\": 22, \"hobbies\": [\"Basketball\", \"Develop\", \"Travel\"]\n",
    "    }\n",
    "}\n",
    "with open(\"me.json\", \"w\") as f:\n",
    "    json.dump(my_info, f, indent=4) # with indent=4 we give a tab to each element and we follow the json forma\n"
   ],
   "id": "2d8633607c912f26",
   "outputs": [],
   "execution_count": 15
  },
  {
   "metadata": {},
   "cell_type": "markdown",
   "source": "- Load the file `me.json` back into Python and print the contents.\n",
   "id": "852429c9087ba80"
  },
  {
   "metadata": {
    "ExecuteTime": {
     "end_time": "2025-08-25T22:45:12.948125Z",
     "start_time": "2025-08-25T22:45:12.943331Z"
    }
   },
   "cell_type": "code",
   "source": [
    "import json # first we import the json library\n",
    "\n",
    "with open(\"me.json\", \"r\") as f:\n",
    "    data = json.load(f) # json.load() we save the datas from the file to the var data\n",
    "print(data)"
   ],
   "id": "873ab1ce05d19898",
   "outputs": [
    {
     "name": "stdout",
     "output_type": "stream",
     "text": [
      "{'Person': {'name': 'Danilo', 'surname': 'Quattrini', 'age': 22, 'hobbies': ['Basketball', 'Develop', 'Travel']}}\n"
     ]
    }
   ],
   "execution_count": 16
  },
  {
   "metadata": {},
   "cell_type": "markdown",
   "source": [
    "# Medium\n",
    "- Create a list of 3 dictionaries, each representing a book (title, author, year). Save it to `books.json`."
   ],
   "id": "a1194607da278f01"
  },
  {
   "metadata": {
    "ExecuteTime": {
     "end_time": "2025-08-26T11:18:59.162679Z",
     "start_time": "2025-08-26T11:18:59.157676Z"
    }
   },
   "cell_type": "code",
   "source": [
    "import json\n",
    "book1 = {\n",
    "    \"title\": \"1984\",\n",
    "    \"author\": \"George Orwell\",\n",
    "    \"year\": 1949}\n",
    "book2 = {\n",
    "    \"title\": \"To Kill a Mockingbird\",\n",
    "    \"author\": \"Harper Lee\",\n",
    "    \"year\": 1960}\n",
    "book3 = {\n",
    "    \"title\": \"The Great Gatsby\",\n",
    "    \"author\": \"F. Scott Fitzgerald\",\n",
    "    \"year\": 1925\n",
    "}\n",
    "\n",
    "library = [book1,book2,book3]\n",
    "\n",
    "with open(\"books.json\", \"w\") as f:\n",
    "        json.dump(library, f, indent=4)"
   ],
   "id": "76bb5ce8fceb40b",
   "outputs": [],
   "execution_count": 9
  },
  {
   "metadata": {},
   "cell_type": "markdown",
   "source": "- Load the books.json file and print the title of the second book.",
   "id": "d21ed588c31f34c1"
  },
  {
   "metadata": {
    "ExecuteTime": {
     "end_time": "2025-08-26T11:27:46.606359Z",
     "start_time": "2025-08-26T11:27:46.602579Z"
    }
   },
   "cell_type": "code",
   "source": [
    "import json\n",
    "\n",
    "with open(\"books.json\", \"r\") as f:\n",
    "    books = json.load(f)\n",
    "print(type(books[0]))\n",
    "cont = 0\n",
    "for i in books:\n",
    "    if cont == 1: print(i.get('author'))\n",
    "    cont += 1"
   ],
   "id": "54cc1acbaeda0acf",
   "outputs": [
    {
     "name": "stdout",
     "output_type": "stream",
     "text": [
      "<class 'dict'>\n",
      "Harper Lee\n"
     ]
    }
   ],
   "execution_count": 28
  },
  {
   "metadata": {},
   "cell_type": "markdown",
   "source": [
    "# Advanced\n",
    "Write a program that:\n",
    "- Asks the user to input 3 friends’ names and ages.\n",
    "- Stores them as a list of dictionaries.\n",
    "- Saves them to a JSON file friends.json.\n",
    "- Reads back the file and prints the oldest friend."
   ],
   "id": "4d10ae49e30a9faa"
  },
  {
   "metadata": {
    "ExecuteTime": {
     "end_time": "2025-08-26T12:33:52.344153Z",
     "start_time": "2025-08-26T12:33:45.998475Z"
    }
   },
   "cell_type": "code",
   "source": [
    "import json\n",
    "my_friends = []\n",
    "counter = 1\n",
    "for i in range(1):\n",
    "    name = input(f\"Enter the {counter}° friend name: \")\n",
    "    age = input(f\"Enter the {counter}° friend age: \")\n",
    "    friend = {\"name\": name, \"age\": age}\n",
    "    my_friends.insert(i,friend)\n",
    "    counter += 1\n",
    "\n",
    "# Here we write the datas inside the JSON file with json.dump\n",
    "with open(\"friend_list.json\", \"w\") as f:\n",
    "    json.dump(my_friends, f, indent=4)\n",
    "\n",
    "# With json.load we serialize the datas from the json to the local variable\n",
    "with open(\"friend_list.json\", \"r\") as f:\n",
    "    friend_datas = json.load(f)\n",
    "print(friend_datas)\n",
    "\n",
    "oldest_user = []\n",
    "for i in friend_datas:\n",
    "    # We need to iterating through a dictionary\n",
    "\n",
    "   for key in i:\n",
    "       if type(key) == int:\n",
    "            print(key)"
   ],
   "id": "bef80ff1433e9344",
   "outputs": [
    {
     "name": "stdout",
     "output_type": "stream",
     "text": [
      "[{'name': 'Dnilo', 'age': '21'}]\n"
     ]
    }
   ],
   "execution_count": 48
  }
 ],
 "metadata": {
  "kernelspec": {
   "display_name": "Python 3",
   "language": "python",
   "name": "python3"
  },
  "language_info": {
   "codemirror_mode": {
    "name": "ipython",
    "version": 2
   },
   "file_extension": ".py",
   "mimetype": "text/x-python",
   "name": "python",
   "nbconvert_exporter": "python",
   "pygments_lexer": "ipython2",
   "version": "2.7.6"
  }
 },
 "nbformat": 4,
 "nbformat_minor": 5
}
