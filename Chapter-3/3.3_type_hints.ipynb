{
 "cells": [
  {
   "metadata": {},
   "cell_type": "markdown",
   "source": [
    "# Type hint\n",
    "Type hint is an annotation we use when we want to implement a static variable inside python, it's also helpful, when we want to check the return value of a function as we expect.\n",
    "\n",
    "Type hints define the expected type for variables and function arguments. Example:"
   ],
   "id": "83ac94affd59041c"
  },
  {
   "metadata": {
    "ExecuteTime": {
     "end_time": "2025-09-15T20:56:34.459664Z",
     "start_time": "2025-09-15T20:56:34.453714Z"
    }
   },
   "cell_type": "code",
   "source": [
    "age: int = 25\n",
    "def greet(name: str) -> str:\n",
    "    return f\"Hello, {name}!\"\n",
    "greet(\"Danilo\")"
   ],
   "id": "2f78fceedcecc534",
   "outputs": [
    {
     "data": {
      "text/plain": [
       "'Hello, Danilo!'"
      ]
     },
     "execution_count": 28,
     "metadata": {},
     "output_type": "execute_result"
    }
   ],
   "execution_count": 28
  },
  {
   "metadata": {},
   "cell_type": "markdown",
   "source": [
    "Here, as we can see, the function greet(), expect a variable name that's a string:\n",
    "- The annotation is `name: variable_type` for instance `name: str`\n",
    "- The function as a -> arrow statement at the end, that means we expect to return a specif type value, for instance we expect to return a str value `-> return value we expect`"
   ],
   "id": "9c769e6f5138552c"
  },
  {
   "metadata": {
    "ExecuteTime": {
     "end_time": "2025-09-11T21:09:17.352541Z",
     "start_time": "2025-09-11T21:09:17.348489Z"
    }
   },
   "cell_type": "code",
   "source": [
    "def sum_of_two_variable(a: int, b: int) -> int:\n",
    "    return a + b\n",
    "sum_of_two_variable(3.2, 5)"
   ],
   "id": "9f901abee650d6c2",
   "outputs": [
    {
     "data": {
      "text/plain": [
       "8.2"
      ]
     },
     "execution_count": 9,
     "metadata": {},
     "output_type": "execute_result"
    }
   ],
   "execution_count": 9
  },
  {
   "metadata": {},
   "cell_type": "markdown",
   "source": [
    "Now we can try with these exercises, that can help us to understand, why it's so helpful to use type hints in python\n",
    "# 🟢 Easy Mode\n",
    "1. Write a function that takes a string and returns its length"
   ],
   "id": "d8071a7e476e4c2f"
  },
  {
   "metadata": {
    "ExecuteTime": {
     "end_time": "2025-09-11T21:17:22.523124Z",
     "start_time": "2025-09-11T21:17:22.518228Z"
    }
   },
   "cell_type": "code",
   "source": [
    "def str_length(string_to_analyze: str) -> int:\n",
    "    if isinstance(string_to_analyze, str):\n",
    "        return len(string_to_analyze)\n",
    "    else: return 0\n",
    "str_length(\"Giovanni\")"
   ],
   "id": "de8e49a04514b710",
   "outputs": [
    {
     "data": {
      "text/plain": [
       "8"
      ]
     },
     "execution_count": 19,
     "metadata": {},
     "output_type": "execute_result"
    }
   ],
   "execution_count": 19
  },
  {
   "metadata": {},
   "cell_type": "markdown",
   "source": "2. Write a function that takes a float temperature in Celsius and returns Fahrenheit.",
   "id": "fc37072cc69c572b"
  },
  {
   "metadata": {
    "ExecuteTime": {
     "end_time": "2025-09-15T21:01:00.373625Z",
     "start_time": "2025-09-15T21:01:00.369290Z"
    }
   },
   "cell_type": "code",
   "source": [
    "def fahrenheit_converter(celsius: float) -> float:\n",
    "    return (celsius * 1.8) + 32\n",
    "celsius_temperature: float = 18.0\n",
    "fahrenheit_temperature  = fahrenheit_converter(celsius_temperature)\n",
    "print(f\"The celsius value is {celsius_temperature} converted in fahrenheit is {fahrenheit_temperature}\")"
   ],
   "id": "ebdc60cdefcee404",
   "outputs": [
    {
     "name": "stdout",
     "output_type": "stream",
     "text": [
      "The celsius value is 18.0 converted in fahrenheit is 64.4\n"
     ]
    }
   ],
   "execution_count": 30
  },
  {
   "metadata": {},
   "cell_type": "markdown",
   "source": [
    "# 🟡 Medium Level\n",
    "Write a function that takes a list of integers and returns the average as a float."
   ],
   "id": "ba07d4b741926f4c"
  },
  {
   "metadata": {
    "ExecuteTime": {
     "end_time": "2025-09-11T21:20:08.609505Z",
     "start_time": "2025-09-11T21:20:08.605502Z"
    }
   },
   "cell_type": "code",
   "source": [
    "# With from typing import we can declare Lists, Tuples, Sets and Dictionaries\n",
    "from typing import List\n",
    "def avg_of_numbers(list_of_integers: List[int]) -> float:\n",
    "    return sum(list_of_integers) / len(list_of_integers)\n",
    "\n",
    "example_number_list: List[int] = [1, 3, 5, 6 ,9]\n",
    "print(f\"The average of the list {example_number_list} is of: {avg_of_numbers(example_number_list)}\")"
   ],
   "id": "2241f45d2e8cf3b7",
   "outputs": [
    {
     "name": "stdout",
     "output_type": "stream",
     "text": [
      "The average of the list [1, 3, 5, 6, 9] is of: 4.8\n"
     ]
    }
   ],
   "execution_count": 20
  },
  {
   "metadata": {},
   "cell_type": "markdown",
   "source": "Write a function that takes a dictionary of student names (str) to grades (float) and returns the student with the highest grade.\n",
   "id": "fbfb1d5dd06c2ad8"
  },
  {
   "metadata": {
    "ExecuteTime": {
     "end_time": "2025-09-15T21:35:31.500759Z",
     "start_time": "2025-09-15T21:35:31.477878Z"
    }
   },
   "cell_type": "code",
   "source": [
    "from typing import Dict\n",
    "from typing import List\n",
    "def best_student(student_dict: Dict[str, float]) -> Dict[List[str], List[float]]:\n",
    "    name: List[str] = list()\n",
    "    max_grade: List[float] = list()\n",
    "\n",
    "    max_grade.append(max(student_dict.values()))\n",
    "    names = [name for k, v in student_dict.items() if v == max_grade]\n",
    "    print(max_grade)\n",
    "    # When we return a dict we can either declare it in this way\n",
    "\n",
    "    return {names:max_grade}\n",
    "\n",
    "# To define the type hint of the dict it's Dict[key,value]\n",
    "students: Dict[str, float] = dict()\n",
    "students.update({\"Danilo\": 2.0, \"Pirlo\": 4.9, \"Lorenzo\": 10, \"Francesco\": 10})\n",
    "the_best_student = best_student(students)\n",
    "print(the_best_student)"
   ],
   "id": "feeab04abedfecae",
   "outputs": [
    {
     "name": "stdout",
     "output_type": "stream",
     "text": [
      "[10]\n"
     ]
    },
    {
     "ename": "TypeError",
     "evalue": "unhashable type: 'list'",
     "output_type": "error",
     "traceback": [
      "\u001B[0;31m---------------------------------------------------------------------------\u001B[0m",
      "\u001B[0;31mTypeError\u001B[0m                                 Traceback (most recent call last)",
      "Cell \u001B[0;32mIn[58], line 17\u001B[0m\n\u001B[1;32m     15\u001B[0m students: Dict[\u001B[38;5;28mstr\u001B[39m, \u001B[38;5;28mfloat\u001B[39m] \u001B[38;5;241m=\u001B[39m \u001B[38;5;28mdict\u001B[39m()\n\u001B[1;32m     16\u001B[0m students\u001B[38;5;241m.\u001B[39mupdate({\u001B[38;5;124m\"\u001B[39m\u001B[38;5;124mDanilo\u001B[39m\u001B[38;5;124m\"\u001B[39m: \u001B[38;5;241m2.0\u001B[39m, \u001B[38;5;124m\"\u001B[39m\u001B[38;5;124mPirlo\u001B[39m\u001B[38;5;124m\"\u001B[39m: \u001B[38;5;241m4.9\u001B[39m, \u001B[38;5;124m\"\u001B[39m\u001B[38;5;124mLorenzo\u001B[39m\u001B[38;5;124m\"\u001B[39m: \u001B[38;5;241m10\u001B[39m, \u001B[38;5;124m\"\u001B[39m\u001B[38;5;124mFrancesco\u001B[39m\u001B[38;5;124m\"\u001B[39m: \u001B[38;5;241m10\u001B[39m})\n\u001B[0;32m---> 17\u001B[0m the_best_student \u001B[38;5;241m=\u001B[39m \u001B[43mbest_student\u001B[49m\u001B[43m(\u001B[49m\u001B[43mstudents\u001B[49m\u001B[43m)\u001B[49m\n\u001B[1;32m     18\u001B[0m \u001B[38;5;28mprint\u001B[39m(the_best_student)\n",
      "Cell \u001B[0;32mIn[58], line 12\u001B[0m, in \u001B[0;36mbest_student\u001B[0;34m(student_dict)\u001B[0m\n\u001B[1;32m      9\u001B[0m \u001B[38;5;28mprint\u001B[39m(max_grade)\n\u001B[1;32m     10\u001B[0m \u001B[38;5;66;03m# When we return a dict we can either declare it in this way\u001B[39;00m\n\u001B[0;32m---> 12\u001B[0m \u001B[38;5;28;01mreturn\u001B[39;00m {names:max_grade}\n",
      "\u001B[0;31mTypeError\u001B[0m: unhashable type: 'list'"
     ]
    }
   ],
   "execution_count": 58
  }
 ],
 "metadata": {
  "kernelspec": {
   "display_name": "Python 3",
   "language": "python",
   "name": "python3"
  },
  "language_info": {
   "codemirror_mode": {
    "name": "ipython",
    "version": 2
   },
   "file_extension": ".py",
   "mimetype": "text/x-python",
   "name": "python",
   "nbconvert_exporter": "python",
   "pygments_lexer": "ipython2",
   "version": "2.7.6"
  }
 },
 "nbformat": 4,
 "nbformat_minor": 5
}
