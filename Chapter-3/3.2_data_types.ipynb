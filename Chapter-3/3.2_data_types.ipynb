{
 "cells": [
  {
   "metadata": {},
   "cell_type": "markdown",
   "source": [
    "# 📝  Lists\n",
    "1.\tCreate a list of 10 numbers.\n",
    "    - Print only even numbers.\n",
    "    - Reverse the list without using .reverse() or slicing.\n",
    "    - Remove duplicates while keeping order.\n",
    "2. Write a function that takes a list of words and returns the longest word.\n",
    "3. Given a list of integers, return a new list with each number squared, but only if the square is < 50."
   ],
   "id": "812d37d434f517f9"
  },
  {
   "metadata": {
    "ExecuteTime": {
     "end_time": "2025-09-02T21:19:06.324649Z",
     "start_time": "2025-09-02T21:19:06.319406Z"
    }
   },
   "cell_type": "code",
   "source": [
    "from random import random\n",
    "from tokenize import String\n",
    "\n",
    "first_set = [1, 2, 3, 5, 6, 2, 0 , 11, 21514, 89]\n",
    "# Prints only the even numbers inside the list\n",
    "for number in first_set:\n",
    "    if number % 2 == 0: print(f\"The number {number} is even\")\n",
    "# Revers the list without the function .reverse or slicing\n",
    "reversed_list = []\n",
    "# We set the index to the last element of the list\n",
    "# then we step backward until we reach the 0, but we need to say that\n",
    "# we are stop before the -1\n",
    "# and at the end the index we want to reach\n",
    "for i in range(len(first_set) - 1, -1, -1):\n",
    "    reversed_list.append(first_set[i])\n",
    "print(reversed_list)\n",
    "\n",
    "# Remove duplicates with the list operand and the for-iteration\n",
    "\n",
    "result = []\n",
    "# Go through all the elements of the list\n",
    "for value in first_set:\n",
    "    # if the element is not already inside the list we add it\n",
    "    if value not in result:\n",
    "        # with the function .append() we add elements inside the list\n",
    "        result.append(value)\n",
    "print(result)"
   ],
   "id": "f0045f4d52b205bc",
   "outputs": [
    {
     "name": "stdout",
     "output_type": "stream",
     "text": [
      "The number 2 is even\n",
      "The number 6 is even\n",
      "The number 2 is even\n",
      "The number 0 is even\n",
      "The number 21514 is even\n",
      "[89, 21514, 11, 0, 2, 6, 5, 3, 2, 1]\n",
      "[1, 2, 3, 5, 6, 0, 11, 21514, 89]\n"
     ]
    }
   ],
   "execution_count": 2
  },
  {
   "metadata": {},
   "cell_type": "markdown",
   "source": [
    "## range() function\n",
    "**Syntax: `range(start, stop, step)`**\n",
    "Parameter :\n",
    "- start: `[ optional ] `start value of the sequence\n",
    " - stop: next value after the end value of the sequence\n",
    "  - step: `[ optional ]` integer value, denoting the difference between any two numbers in the sequence\n",
    "\n",
    "Return : Returns an object that represents a sequence of numbers"
   ],
   "id": "42e6474fa86515ad"
  },
  {
   "metadata": {
    "ExecuteTime": {
     "end_time": "2025-09-02T21:32:35.932566Z",
     "start_time": "2025-09-02T21:32:35.926672Z"
    }
   },
   "cell_type": "code",
   "source": [
    "def longest_word(lst):\n",
    "\n",
    "    # Let us the list comprehension for each element inside the list\n",
    "    # we create a new list with the length of each string\n",
    "    string_length = [len(element) for element in lst]\n",
    "\n",
    "    # Save the first element inside the variable max\n",
    "    max_string = string_length[0]\n",
    "\n",
    "    for length in string_length:\n",
    "        # Then we compare if the value is bigger than the max, value will be the max_string\n",
    "        if max_string < length: max_string = length\n",
    "    return max_string\n",
    "word_list = [\"pippo\", \"pluto\", \"paperriafda\"]\n",
    "longest_word(word_list)"
   ],
   "id": "3aff321a43f7fe23",
   "outputs": [
    {
     "data": {
      "text/plain": [
       "11"
      ]
     },
     "execution_count": 5,
     "metadata": {},
     "output_type": "execute_result"
    }
   ],
   "execution_count": 5
  },
  {
   "metadata": {},
   "cell_type": "markdown",
   "source": [
    "## List Comprehension in Python\n",
    "It's an easier way to save elements into a list, with conditional and cycle each through each element of the list,\n",
    "    `[expression for item in iterable if condition]`"
   ],
   "id": "fd40332b9656167"
  },
  {
   "metadata": {
    "ExecuteTime": {
     "end_time": "2025-09-02T21:40:50.489666Z",
     "start_time": "2025-09-02T21:40:50.484141Z"
    }
   },
   "cell_type": "code",
   "source": [
    "def quadratic_function(lst):\n",
    "    # Save into a list the quadratic of a number for each element inside the list <lst>,\n",
    "    # only if the quadratic of the element <x> is less than 50\n",
    "    quadratic_list = [x**2 for x in lst if x**2 < 50]\n",
    "\n",
    "    return quadratic_list\n",
    "list_of_numbers = [2, 6 , 4 , 5, 6 , 4, 6, 3]\n",
    "quadratic_function(list_of_numbers)"
   ],
   "id": "2167a678b8990e17",
   "outputs": [
    {
     "data": {
      "text/plain": [
       "[4, 36, 16, 25, 36, 16, 36, 9]"
      ]
     },
     "execution_count": 8,
     "metadata": {},
     "output_type": "execute_result"
    }
   ],
   "execution_count": 8
  },
  {
   "metadata": {},
   "cell_type": "markdown",
   "source": [
    "# 🔗 Tuples\n",
    "1.\tCreate a tuple with 5 elements.\n",
    "    - Access the 2nd and 4th elements.\n",
    "    - Try to modify one element — what happens? Why?\n",
    "2. Write a function that takes a list of tuples (e.g. [(1, 2), (3, 4)]) and returns a list with the sum of each tuple (→ [3, 7]).\n",
    " 3. Given a sentence, return a tuple (word_count, unique_word_count)."
   ],
   "id": "af732396f12da726"
  },
  {
   "metadata": {
    "ExecuteTime": {
     "end_time": "2025-09-03T21:44:23.813086Z",
     "start_time": "2025-09-03T21:44:23.805880Z"
    }
   },
   "cell_type": "code",
   "source": [
    "# Create the first Tuple with the rounded parentheses\n",
    "first_tuple = (\"Hello\", 23, 25.66, [\"Word\", 52], True)\n",
    "print(first_tuple[1], first_tuple[3]) # Access from the Tuple the 2° and the 4° element\n",
    "\n",
    "# Try to modify one element inside the Tuple\n",
    "# first_tuple[1] = 15 # Error launch because we cannot edit a element into a Tuple\n",
    "\n",
    "# Function we can adoperate are all of the one's that we don't edit elements\n",
    "# print(first_tuple.count(23))\n",
    "\n",
    "# function to calculate the sum of a list of elements inside a tuple\n",
    "def sum_element_into_tuple(tpl_list):\n",
    "    sum_of_values = []\n",
    "    for tuple_collection in tpl_list:\n",
    "        temp = 0\n",
    "        temp += (tuple_collection[1] + tuple_collection[0])\n",
    "        sum_of_values.append(temp)\n",
    "    return sum_of_values\n",
    "\n",
    "# List of tuples we want to sum each element\n",
    "tuple_list = [(1, 3), (4, 6), (5, 6)]\n",
    "print(sum_element_into_tuple(tuple_list))\n",
    "\n",
    "# function where we take a sentence and return a tuple (word_count, unique_word_count)\n",
    "def sentence_counter(string):\n",
    "    word_count = 0\n",
    "    unique_word_count = 0\n",
    "    string = string.lower()\n",
    "    for character in string:\n",
    "        word_count += 1\n",
    "\n",
    "        # with string.count() we count how many times the character repeats inside the string\n",
    "        # in this way we are able to see if the char it's already in the string or not\n",
    "        if string.count(character) == 1:\n",
    "            unique_word_count += 1\n",
    "    counter_tuple = (word_count,unique_word_count)\n",
    "    print(counter_tuple)\n",
    "\n",
    "sentence = \"Hello,World!\"\n",
    "print(sentence_counter(sentence))"
   ],
   "id": "b036a09b2b46c997",
   "outputs": [
    {
     "name": "stdout",
     "output_type": "stream",
     "text": [
      "23 ['Word', 52]\n",
      "[4, 10, 11]\n",
      " The character h has been found 1\n",
      " The character e has been found 2\n",
      " The character , has been found 3\n",
      " The character w has been found 4\n",
      " The character r has been found 5\n",
      " The character d has been found 6\n",
      " The character ! has been found 7\n",
      "(12, 7)\n",
      "None\n"
     ]
    }
   ],
   "execution_count": 55
  },
  {
   "metadata": {},
   "cell_type": "markdown",
   "source": [
    "# 🎯 Sets\n",
    "1.\tCreate two sets of numbers (e.g. {1,2,3,4} and {3,4,5,6}).\n",
    "    — Find the union, intersection, and difference.\n",
    "2. Write a program to remove duplicates from a list using a set.\n",
    "3. Given two strings, check if they are anagrams (contain the same letters, just in a different order).\n"
   ],
   "id": "49a2d1ddda2f2be5"
  },
  {
   "metadata": {
    "ExecuteTime": {
     "end_time": "2025-09-06T21:08:34.091257Z",
     "start_time": "2025-09-06T21:08:34.088611Z"
    }
   },
   "cell_type": "code",
   "source": [
    "# First, we create the list that we want to convert into a set\n",
    "first_set = [1, 2, 3]\n",
    "second_set = [3, 4, 5, 6]\n",
    "\n",
    "# then we use the function set, where se convert from <list> type into <set> type\n",
    "first_set = set(first_set)\n",
    "second_set = set(second_set)"
   ],
   "id": "fcf70617cb06c3b",
   "outputs": [],
   "execution_count": 9
  },
  {
   "metadata": {},
   "cell_type": "markdown",
   "source": "With `set.union` we are creating a new set with the union of the first and the second set",
   "id": "1f058575d908aa6e"
  },
  {
   "metadata": {
    "ExecuteTime": {
     "end_time": "2025-09-04T20:15:22.661377Z",
     "start_time": "2025-09-04T20:15:22.657667Z"
    }
   },
   "cell_type": "code",
   "source": [
    "union_of_set = set.union(first_set,second_set)\n",
    "print(union_of_set)"
   ],
   "id": "8ad1c5e04ec13871",
   "outputs": [
    {
     "name": "stdout",
     "output_type": "stream",
     "text": [
      "{1, 2, 3, 4, 5, 6}\n"
     ]
    }
   ],
   "execution_count": 9
  },
  {
   "metadata": {},
   "cell_type": "markdown",
   "source": "With `set.intersection()`, we print the value that first and second set have in common\n",
   "id": "e807303b47998d2"
  },
  {
   "metadata": {
    "ExecuteTime": {
     "end_time": "2025-09-04T20:16:21.442221Z",
     "start_time": "2025-09-04T20:16:21.439726Z"
    }
   },
   "cell_type": "code",
   "source": [
    "intersection_set = set.intersection(first_set,second_set)\n",
    "print(f\"The intersection with the first set: {first_set} and the second one: {second_set} is about: {intersection_set}\")"
   ],
   "id": "7cd34ac65bce0549",
   "outputs": [
    {
     "name": "stdout",
     "output_type": "stream",
     "text": [
      "The intersection with the first set: {1, 2, 3} and the second one: {3, 4, 5, 6} is about: {3}\n"
     ]
    }
   ],
   "execution_count": 12
  },
  {
   "metadata": {},
   "cell_type": "markdown",
   "source": "With the difference we are subtracting the element from the first set and the second one",
   "id": "ef05256942cc4bf0"
  },
  {
   "metadata": {
    "ExecuteTime": {
     "end_time": "2025-09-04T20:15:28.094042Z",
     "start_time": "2025-09-04T20:15:28.090398Z"
    }
   },
   "cell_type": "code",
   "source": [
    "# With the difference we are subtracting the element from the first set and the second one\n",
    "difference_set = set.difference(first_set,second_set)\n",
    "print(f\"The difference from the first set and the second one is: {difference_set}\")\n"
   ],
   "id": "84176c9cd8f10270",
   "outputs": [
    {
     "name": "stdout",
     "output_type": "stream",
     "text": [
      "The difference from the first set and the second one is: {1, 2}\n"
     ]
    }
   ],
   "execution_count": 11
  },
  {
   "metadata": {},
   "cell_type": "markdown",
   "source": "Write a program to remove duplicates from a list using a set.",
   "id": "327cc2749d9b6bf7"
  },
  {
   "metadata": {
    "ExecuteTime": {
     "end_time": "2025-09-04T20:30:19.052059Z",
     "start_time": "2025-09-04T20:30:19.048224Z"
    }
   },
   "cell_type": "code",
   "source": [
    "# First, we create the list of numbers we want to remove the duplicates\n",
    "example_set = [1, 3, 6, 2, 3, 3, 6, 0]\n",
    "# Then we convert the list into a set\n",
    "example_set = set(example_set) # With set we already remove the duplicates from a list\n",
    "# Print the set without duplication\n",
    "print(example_set)"
   ],
   "id": "8a9ad6f54d72ce0a",
   "outputs": [
    {
     "name": "stdout",
     "output_type": "stream",
     "text": [
      "{0, 1, 2, 3, 6}\n"
     ]
    }
   ],
   "execution_count": 30
  },
  {
   "metadata": {},
   "cell_type": "markdown",
   "source": "Given two strings, check if they are anagrams (contain the same letters, just in a different order).",
   "id": "75046f429ebfa7fd"
  },
  {
   "metadata": {
    "ExecuteTime": {
     "end_time": "2025-09-04T20:42:41.731516Z",
     "start_time": "2025-09-04T20:42:41.727136Z"
    }
   },
   "cell_type": "code",
   "source": [
    "def anagram_checker(strg1, strg2):\n",
    "    # We create your two sets for each char inside the string we save the into a set of\n",
    "    # in that way we avoid finding duplicates into a string\n",
    "   set_string1 = set(c for c in strg1)\n",
    "   set_string2 = set(c2 for c2 in strg2)\n",
    "\n",
    "    # Then we save the length of the intersection, in this case we need it later to\n",
    "    # see if a specific case is going to happen or not\n",
    "   set_checker = len(set.intersection(set_string1, set_string2))\n",
    "\n",
    "    # In this case if the length of the intersection is equal to the\n",
    "    # length of the first and the second set where we save the strings,\n",
    "    # then, it means that both of the set have the same character.\n",
    "   if set_checker == len(set_string1) and set_checker == len(set_string2):\n",
    "       print(\"They are anagrams\")\n",
    "   else: print(\"They are not anagrams\")\n",
    "\n",
    "    # We use a set instead of the list, because we don't need the order of the elements\n",
    "    # and their duplication, we just have to see if they have the same characters or not.\n",
    "\n",
    "string1 = \"ciao\"\n",
    "string2 = \"oica\"\n",
    "\n",
    "anagram_checker(string1, string2)"
   ],
   "id": "683eb534e6b3cab6",
   "outputs": [
    {
     "name": "stdout",
     "output_type": "stream",
     "text": [
      "They are anagrams\n"
     ]
    }
   ],
   "execution_count": 73
  },
  {
   "metadata": {},
   "cell_type": "markdown",
   "source": [
    "# 📚 Dictionaries\n",
    "1. Create a dictionary of student names and their grades.\n",
    "    - Print the name of the student with the highest grade.\n",
    "    - Add a new student.\n",
    "    - Update a grade.\n",
    "2. Write a function that counts how many times each letter appears in a string and returns a dictionary.\n",
    "3. Given a list of dictionaries like:\n",
    "```json\n",
    "users = [\n",
    "    {\"id\": 1, \"name\": \"Alice\"},\n",
    "    {\"id\": 2, \"name\": \"Bob\"},\n",
    "    {\"id\": 3, \"name\": \"Alice\"}\n",
    "]\n",
    "```\n",
    "Remove duplicates (same name)."
   ],
   "id": "3958651bc2c27fcd"
  },
  {
   "metadata": {
    "ExecuteTime": {
     "end_time": "2025-09-06T21:12:28.634480Z",
     "start_time": "2025-09-06T21:12:28.631181Z"
    }
   },
   "cell_type": "code",
   "source": [
    "# Here is just a dictionary with the keys but not their values inside of them\n",
    "students = {\"Francesco\": 7, \"Pippo\": 4, \"Danilo\": 5, \"Lorenzo\": 9}"
   ],
   "id": "ddee441fd4e88fdb",
   "outputs": [],
   "execution_count": 2
  },
  {
   "metadata": {},
   "cell_type": "markdown",
   "source": "Add a new value inside the specific key of the dictionary we just use the assign",
   "id": "e6b693c8fa512697"
  },
  {
   "metadata": {
    "ExecuteTime": {
     "end_time": "2025-09-06T21:12:31.356031Z",
     "start_time": "2025-09-06T21:12:31.352964Z"
    }
   },
   "cell_type": "code",
   "source": [
    "# Add a new key-value with the .update function\n",
    "students.update({\"Giorgio\": 8})\n",
    "print(students)"
   ],
   "id": "e9334a04b23e813b",
   "outputs": [
    {
     "name": "stdout",
     "output_type": "stream",
     "text": [
      "{'Francesco': 7, 'Pippo': 4, 'Danilo': 5, 'Lorenzo': 9, 'Giorgio': 8}\n"
     ]
    }
   ],
   "execution_count": 3
  },
  {
   "metadata": {},
   "cell_type": "markdown",
   "source": "Print the name of the student with the highest grade.",
   "id": "ec593cf863629df5"
  },
  {
   "metadata": {
    "ExecuteTime": {
     "end_time": "2025-09-06T21:12:32.662788Z",
     "start_time": "2025-09-06T21:12:32.659469Z"
    }
   },
   "cell_type": "code",
   "source": [
    "student_name = None\n",
    "max_value = float('-inf') # max value -inf is the lowest number inside the memory\n",
    "\n",
    "for k,v in students.items():\n",
    "    if v > max_value:\n",
    "        max_value = v\n",
    "        student_name = k\n",
    "print(student_name)"
   ],
   "id": "23cfa1a5b18119e1",
   "outputs": [
    {
     "name": "stdout",
     "output_type": "stream",
     "text": [
      "Lorenzo\n"
     ]
    }
   ],
   "execution_count": 4
  },
  {
   "metadata": {},
   "cell_type": "markdown",
   "source": "Write a function that counts how many times each letter appears in a string and returns a dictionary.",
   "id": "5427ed45ae0cb2ad"
  },
  {
   "metadata": {
    "ExecuteTime": {
     "end_time": "2025-09-06T21:23:40.842870Z",
     "start_time": "2025-09-06T21:23:40.839964Z"
    }
   },
   "cell_type": "code",
   "source": [
    "def letter_counter(string_to_count):\n",
    "    counter = sum(1 for char in string_to_count)\n",
    "    return {string_to_count:counter}\n",
    "string_to_count = \"Paperino\"\n",
    "dict_letter_counter = letter_counter(string_to_count)\n",
    "print(dict_letter_counter)"
   ],
   "id": "1f6abd163b897fae",
   "outputs": [
    {
     "name": "stdout",
     "output_type": "stream",
     "text": [
      "{'Paperino': 8}\n"
     ]
    }
   ],
   "execution_count": 13
  },
  {
   "metadata": {},
   "cell_type": "markdown",
   "source": [
    "Given a list of dictionaries like:\n",
    "```json\n",
    "users = [\n",
    "    {\"id\": 1, \"name\": \"Alice\"},\n",
    "    {\"id\": 2, \"name\": \"Bob\"},\n",
    "    {\"id\": 3, \"name\": \"Alice\"}\n",
    "]\n",
    "```\n",
    "Remove duplicates (same name)."
   ],
   "id": "de5bd40abcc1f5d4"
  },
  {
   "metadata": {
    "ExecuteTime": {
     "end_time": "2025-09-07T21:23:54.922918Z",
     "start_time": "2025-09-07T21:23:54.918254Z"
    }
   },
   "cell_type": "code",
   "source": [
    "users = [\n",
    "    {\"id\": 1, \"name\": \"Alice\"},\n",
    "    {\"id\": 2, \"name\": \"Bob\"},\n",
    "    {\"id\": 3, \"name\": \"Alice\"}\n",
    "]\n",
    "seen = set()\n",
    "new_dict = {}\n",
    "new_list = []\n",
    "for dict_element in users:\n",
    "    value_seen = tuple(dict_element.values())\n",
    "    if value_seen not in seen:\n",
    "        seen.add(value_seen)\n",
    "        new_list.append(dict_element)\n",
    "\n",
    "print(new_list)"
   ],
   "id": "4ae52c67b925a056",
   "outputs": [
    {
     "name": "stdout",
     "output_type": "stream",
     "text": [
      "[{'id': 1, 'name': 'Alice'}, {'id': 2, 'name': 'Bob'}, {'id': 3, 'name': 'Alice'}]\n"
     ]
    }
   ],
   "execution_count": 26
  },
  {
   "metadata": {},
   "cell_type": "markdown",
   "source": [
    "# 📂 Files\n",
    "1.\tWrite a program that:\n",
    "    - Creates a file numbers.txt.\n",
    "    - Writes numbers 1–20, one per line.\n",
    "    - Reads them back and prints only even numbers.\n",
    "2. Write a function that reads a text file and counts how many lines, words, and characters it contains.\n",
    "3. Modify a JSON file by adding a new key-value pair. Example: add \"completed\": True to each item in a to-do list JSON."
   ],
   "id": "a0a1511e1a737f91"
  },
  {
   "metadata": {
    "ExecuteTime": {
     "end_time": "2025-09-07T21:31:54.453893Z",
     "start_time": "2025-09-07T21:31:54.449676Z"
    }
   },
   "cell_type": "code",
   "source": [
    "# Create a new file with the open function\n",
    "f = open(\"numbers.txt\", \"w+\")\n",
    "\n",
    "# for loop to write each number inside the file\n",
    "for i in range(20):\n",
    "    i = str(i)\n",
    "    f.write(i + \"\\n\")\n",
    "\n",
    "# Always close the file when you finish to use it\n",
    "f.close()"
   ],
   "id": "ecd27e6d2405d6e6",
   "outputs": [],
   "execution_count": 37
  },
  {
   "metadata": {},
   "cell_type": "markdown",
   "source": "Reads them back and prints only even numbers.",
   "id": "32ca9db30ee338a5"
  },
  {
   "metadata": {
    "ExecuteTime": {
     "end_time": "2025-09-07T21:43:58.334250Z",
     "start_time": "2025-09-07T21:43:58.329689Z"
    }
   },
   "cell_type": "code",
   "source": [
    "f = open(\"numbers.txt\", \"r\")\n",
    "line = f.readlines()\n",
    "# list to save = [<true_value> for <value> in <list> if <condition>]\n",
    "even_numbers = [int(i) for i in line if int(i) % 2 == 0]\n",
    "print(even_numbers)"
   ],
   "id": "3ee2b0cd2572e084",
   "outputs": [
    {
     "name": "stdout",
     "output_type": "stream",
     "text": [
      "[0, 2, 4, 6, 8, 10, 12, 14, 16, 18]\n"
     ]
    }
   ],
   "execution_count": 46
  },
  {
   "metadata": {},
   "cell_type": "markdown",
   "source": "Write a function that reads a text file and counts how many lines, words, and characters it contains.",
   "id": "9c5336294bf441b7"
  },
  {
   "metadata": {
    "ExecuteTime": {
     "end_time": "2025-09-08T20:53:00.232971Z",
     "start_time": "2025-09-08T20:53:00.225138Z"
    }
   },
   "cell_type": "code",
   "source": [
    "def file_analyzer(file):\n",
    "    #Num of characters\n",
    "    characters = 0\n",
    "    number_lines = 0\n",
    "    number_words = 0\n",
    "    dict_word_analyzer = {\"characters\": None, \"lines\": None, \"words\": None}\n",
    "    line = file.readlines()\n",
    "    for i in line:\n",
    "        number_words += len(i.split())\n",
    "        number_lines += 1\n",
    "        for char in i:\n",
    "            characters += 1\n",
    "    dict_word_analyzer.update({\"characters\": characters, \"lines\": number_lines, \"words\": number_words})\n",
    "    print(dict_word_analyzer)\n",
    "\n",
    "f = open(\"file_analyze.txt\", \"r\")\n",
    "file_analyzer(f)\n",
    "f.close()"
   ],
   "id": "53ade373440b56c8",
   "outputs": [
    {
     "name": "stdout",
     "output_type": "stream",
     "text": [
      "{'characters': 69, 'lines': 8, 'words': 10}\n"
     ]
    }
   ],
   "execution_count": 15
  },
  {
   "metadata": {},
   "cell_type": "markdown",
   "source": "Modify a JSON file by adding a new key-value pair. Example: add \"completed\": True to each item in a to-do list JSON.",
   "id": "74016e9457815e71"
  },
  {
   "metadata": {
    "ExecuteTime": {
     "end_time": "2025-09-08T21:00:01.919773Z",
     "start_time": "2025-09-08T21:00:01.916364Z"
    }
   },
   "cell_type": "code",
   "source": [
    "import json\n",
    "completed_state = {\"complete\": True}\n",
    "\n",
    "with open(\"to-do-list.json\", \"r\") as f:\n",
    "    todo_list = json.load(f)\n",
    "\n",
    "for todo_element in todo_list:\n",
    "    todo_element.update(completed_state)\n",
    "\n",
    "# convert dict element into a json string\n",
    "with open(\"to-do-list.json\", \"w\") as f:\n",
    "     json.dump(todo_list, f, indent=4)\n"
   ],
   "id": "7e1bc72c3f84c275",
   "outputs": [],
   "execution_count": 27
  }
 ],
 "metadata": {
  "kernelspec": {
   "display_name": "Python 3",
   "language": "python",
   "name": "python3"
  },
  "language_info": {
   "codemirror_mode": {
    "name": "ipython",
    "version": 2
   },
   "file_extension": ".py",
   "mimetype": "text/x-python",
   "name": "python",
   "nbconvert_exporter": "python",
   "pygments_lexer": "ipython2",
   "version": "2.7.6"
  }
 },
 "nbformat": 4,
 "nbformat_minor": 5
}
