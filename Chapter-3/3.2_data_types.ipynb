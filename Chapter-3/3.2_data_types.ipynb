{
 "cells": [
  {
   "metadata": {},
   "cell_type": "markdown",
   "source": [
    "# 📝  Lists\n",
    "1.\tCreate a list of 10 numbers.\n",
    "    - Print only even numbers.\n",
    "    - Reverse the list without using .reverse() or slicing.\n",
    "    - Remove duplicates while keeping order.\n",
    "2. Write a function that takes a list of words and returns the longest word.\n",
    "3. Given a list of integers, return a new list with each number squared, but only if the square is < 50."
   ],
   "id": "812d37d434f517f9"
  },
  {
   "metadata": {
    "ExecuteTime": {
     "end_time": "2025-09-02T21:19:06.324649Z",
     "start_time": "2025-09-02T21:19:06.319406Z"
    }
   },
   "cell_type": "code",
   "source": [
    "number_list = [1, 2, 3, 5, 6, 2, 0 , 11, 21514, 89]\n",
    "# Prints only the even numbers inside the list\n",
    "for number in number_list:\n",
    "    if number % 2 == 0: print(f\"The number {number} is even\")\n",
    "# Revers the list without the function .reverse or slicing\n",
    "reversed_list = []\n",
    "# We set the index to the last element of the list\n",
    "# then we step backward until we reach the 0, but we need to say that\n",
    "# we are stop before the -1\n",
    "# and at the end the index we want to reach\n",
    "for i in range(len(number_list) - 1, -1, -1):\n",
    "    reversed_list.append(number_list[i])\n",
    "print(reversed_list)\n",
    "\n",
    "# Remove duplicates with the list operand and the for-iteration\n",
    "\n",
    "result = []\n",
    "# Go through all the elements of the list\n",
    "for value in number_list:\n",
    "    # if the element is not already inside the list we add it\n",
    "    if value not in result:\n",
    "        # with the function .append() we add elements inside the list\n",
    "        result.append(value)\n",
    "print(result)"
   ],
   "id": "f0045f4d52b205bc",
   "outputs": [
    {
     "name": "stdout",
     "output_type": "stream",
     "text": [
      "The number 2 is even\n",
      "The number 6 is even\n",
      "The number 2 is even\n",
      "The number 0 is even\n",
      "The number 21514 is even\n",
      "[89, 21514, 11, 0, 2, 6, 5, 3, 2, 1]\n",
      "[1, 2, 3, 5, 6, 0, 11, 21514, 89]\n"
     ]
    }
   ],
   "execution_count": 2
  },
  {
   "metadata": {},
   "cell_type": "markdown",
   "source": [
    "## range() function\n",
    "**Syntax: `range(start, stop, step)`**\n",
    "Parameter :\n",
    "- start: `[ optional ] `start value of the sequence\n",
    " - stop: next value after the end value of the sequence\n",
    "  - step: `[ optional ]` integer value, denoting the difference between any two numbers in the sequence\n",
    "\n",
    "Return : Returns an object that represents a sequence of numbers"
   ],
   "id": "42e6474fa86515ad"
  },
  {
   "metadata": {
    "ExecuteTime": {
     "end_time": "2025-09-02T21:32:35.932566Z",
     "start_time": "2025-09-02T21:32:35.926672Z"
    }
   },
   "cell_type": "code",
   "source": [
    "def longest_word(lst):\n",
    "\n",
    "    # Let us the list comprehension for each element inside the list\n",
    "    # we create a new list with the length of each string\n",
    "    string_length = [len(element) for element in lst]\n",
    "\n",
    "    # Save the first element inside the variable max\n",
    "    max_string = string_length[0]\n",
    "\n",
    "    for length in string_length:\n",
    "        # Then we compare if the value is bigger than the max, value will be the max_string\n",
    "        if max_string < length: max_string = length\n",
    "    return max_string\n",
    "word_list = [\"pippo\", \"pluto\", \"paperriafda\"]\n",
    "longest_word(word_list)"
   ],
   "id": "3aff321a43f7fe23",
   "outputs": [
    {
     "data": {
      "text/plain": [
       "11"
      ]
     },
     "execution_count": 5,
     "metadata": {},
     "output_type": "execute_result"
    }
   ],
   "execution_count": 5
  },
  {
   "metadata": {},
   "cell_type": "markdown",
   "source": [
    "## List Comprehension in Python\n",
    "It's an easier way to save elements into a list, with conditional and cycle each through each element of the list,\n",
    "    `[expression for item in iterable if condition]`"
   ],
   "id": "fd40332b9656167"
  },
  {
   "metadata": {
    "ExecuteTime": {
     "end_time": "2025-09-02T21:40:50.489666Z",
     "start_time": "2025-09-02T21:40:50.484141Z"
    }
   },
   "cell_type": "code",
   "source": [
    "def quadratic_function(lst):\n",
    "    # Save into a list the quadratic of a number for each element inside the list <lst>,\n",
    "    # only if the quadratic of the element <x> is less than 50\n",
    "    quadratic_list = [x**2 for x in lst if x**2 < 50]\n",
    "\n",
    "    return quadratic_list\n",
    "list_of_numbers = [2, 6 , 4 , 5, 6 , 4, 6, 3]\n",
    "quadratic_function(list_of_numbers)"
   ],
   "id": "2167a678b8990e17",
   "outputs": [
    {
     "data": {
      "text/plain": [
       "[4, 36, 16, 25, 36, 16, 36, 9]"
      ]
     },
     "execution_count": 8,
     "metadata": {},
     "output_type": "execute_result"
    }
   ],
   "execution_count": 8
  },
  {
   "metadata": {},
   "cell_type": "markdown",
   "source": [
    "# 🔗 Tuples\n",
    "1.\tCreate a tuple with 5 elements.\n",
    "-  Access the 2nd and 4th elements.\n",
    "- Try to modify one element — what happens? Why?\n",
    "2. Write a function that takes a list of tuples (e.g. [(1, 2), (3, 4)]) and returns a list with the sum of each tuple (→ [3, 7]).\n",
    " 3. Given a sentence, return a tuple (word_count, unique_word_count)."
   ],
   "id": "af732396f12da726"
  },
  {
   "metadata": {
    "ExecuteTime": {
     "end_time": "2025-09-03T21:44:23.813086Z",
     "start_time": "2025-09-03T21:44:23.805880Z"
    }
   },
   "cell_type": "code",
   "source": [
    "# Create the first Tuple with the rounded parentheses\n",
    "first_tuple = (\"Hello\", 23, 25.66, [\"Word\", 52], True)\n",
    "print(first_tuple[1], first_tuple[3]) # Access from the Tuple the 2° and the 4° element\n",
    "\n",
    "# Try to modify one element inside the Tuple\n",
    "# first_tuple[1] = 15 # Error launch because we cannot edit a element into a Tuple\n",
    "\n",
    "# Function we can adoperate are all of the one's that we don't edit elements\n",
    "# print(first_tuple.count(23))\n",
    "\n",
    "# function to calculate the sum of a list of elements inside a tuple\n",
    "def sum_element_into_tuple(tpl_list):\n",
    "    sum_of_values = []\n",
    "    for tuple_collection in tpl_list:\n",
    "        temp = 0\n",
    "        temp += (tuple_collection[1] + tuple_collection[0])\n",
    "        sum_of_values.append(temp)\n",
    "    return sum_of_values\n",
    "\n",
    "# List of tuples we want to sum each element\n",
    "tuple_list = [(1, 3), (4, 6), (5, 6)]\n",
    "print(sum_element_into_tuple(tuple_list))\n",
    "\n",
    "# function where we take a sentence and return a tuple (word_count, unique_word_count)\n",
    "def sentence_counter(string):\n",
    "    word_count = 0\n",
    "    unique_word_count = 0\n",
    "    string = string.lower()\n",
    "    for character in string:\n",
    "        word_count += 1\n",
    "\n",
    "        # with string.count() we count how many times the character repeats inside the string\n",
    "        # in this way we are able to see if the char it's already in the string or not\n",
    "        if string.count(character) == 1:\n",
    "            unique_word_count += 1\n",
    "    counter_tuple = (word_count,unique_word_count)\n",
    "    print(counter_tuple)\n",
    "\n",
    "sentence = \"Hello,World!\"\n",
    "print(sentence_counter(sentence))"
   ],
   "id": "b036a09b2b46c997",
   "outputs": [
    {
     "name": "stdout",
     "output_type": "stream",
     "text": [
      "23 ['Word', 52]\n",
      "[4, 10, 11]\n",
      " The character h has been found 1\n",
      " The character e has been found 2\n",
      " The character , has been found 3\n",
      " The character w has been found 4\n",
      " The character r has been found 5\n",
      " The character d has been found 6\n",
      " The character ! has been found 7\n",
      "(12, 7)\n",
      "None\n"
     ]
    }
   ],
   "execution_count": 55
  },
  {
   "metadata": {},
   "cell_type": "markdown",
   "source": [
    "# 🎯 Sets\n",
    "1.\tCreate two sets of numbers (e.g. {1,2,3,4} and {3,4,5,6}).\n",
    "    - Find the union, intersection, and difference.\n",
    "2. Write a program to remove duplicates from a list using a set.\n",
    "3. Given two strings, check if they are anagrams (contain the same letters, just in a different order).\n"
   ],
   "id": "49a2d1ddda2f2be5"
  }
 ],
 "metadata": {
  "kernelspec": {
   "display_name": "Python 3",
   "language": "python",
   "name": "python3"
  },
  "language_info": {
   "codemirror_mode": {
    "name": "ipython",
    "version": 2
   },
   "file_extension": ".py",
   "mimetype": "text/x-python",
   "name": "python",
   "nbconvert_exporter": "python",
   "pygments_lexer": "ipython2",
   "version": "2.7.6"
  }
 },
 "nbformat": 4,
 "nbformat_minor": 5
}
