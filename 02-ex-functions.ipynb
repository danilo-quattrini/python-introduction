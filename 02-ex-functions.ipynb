{
 "cells": [
  {
   "metadata": {},
   "cell_type": "markdown",
   "source": [
    "# Easy\n",
    "- Write a function say_hello() that prints “Hello, world!”.\n",
    "- Write a function double(n) that returns twice the value of n.\n",
    "- Write a function average(a, b, c) that returns the average of three numbers."
   ],
   "id": "42278143bf8b8ac7"
  },
  {
   "metadata": {
    "ExecuteTime": {
     "end_time": "2025-08-25T16:38:57.724677Z",
     "start_time": "2025-08-25T16:38:57.712654Z"
    }
   },
   "cell_type": "code",
   "source": [
    "def say_hello():\n",
    "    return \"Hello, world!\"\n",
    "say_hello()"
   ],
   "id": "186348490654beaf",
   "outputs": [
    {
     "data": {
      "text/plain": [
       "'Hello, world!'"
      ]
     },
     "execution_count": 1,
     "metadata": {},
     "output_type": "execute_result"
    }
   ],
   "execution_count": 1
  },
  {
   "metadata": {
    "ExecuteTime": {
     "end_time": "2025-08-25T16:39:59.027494Z",
     "start_time": "2025-08-25T16:39:59.023568Z"
    }
   },
   "cell_type": "code",
   "source": [
    "def double(n):\n",
    "    return n*n\n",
    "n = 10\n",
    "print(f\"The double of {n} is {double(n)}\")"
   ],
   "id": "69087d7bba4bc3f2",
   "outputs": [
    {
     "name": "stdout",
     "output_type": "stream",
     "text": [
      "The double of 10 is 100\n"
     ]
    }
   ],
   "execution_count": 2
  },
  {
   "metadata": {
    "ExecuteTime": {
     "end_time": "2025-08-25T16:41:17.009922Z",
     "start_time": "2025-08-25T16:41:17.005236Z"
    }
   },
   "cell_type": "code",
   "source": [
    "def average(a, b, c):\n",
    "    return (a + b + c) / 3\n",
    "a = 10\n",
    "b = 15\n",
    "c = 40\n",
    "print(f\"The average of {a},{b} and {c} is {average(a,b,c)}\")"
   ],
   "id": "9a7c2b77073e4212",
   "outputs": [
    {
     "name": "stdout",
     "output_type": "stream",
     "text": [
      "The average of 10,15 and 40 is 21.666666666666668\n"
     ]
    }
   ],
   "execution_count": 3
  },
  {
   "metadata": {},
   "cell_type": "markdown",
   "source": [
    "# Medium\n",
    "-\tWrite a function `is_even(n)` that returns True if n is even, False otherwise.\n",
    "-   Write a function `longest_word(words)` that takes a list of words and returns the longest one\n",
    "-   Write a function `word_count(text)` that returns how many words are in a string."
   ],
   "id": "8f61a55183409a80"
  },
  {
   "metadata": {
    "ExecuteTime": {
     "end_time": "2025-08-25T16:46:15.833443Z",
     "start_time": "2025-08-25T16:46:15.829080Z"
    }
   },
   "cell_type": "code",
   "source": [
    "def is_even(n):\n",
    "    \"\"\"In this function we see if the number we passed\n",
    "    is even or not\"\"\"\n",
    "    if n % 2 == 0: return \"even\"\n",
    "    else: return \"odd\"\n",
    "print(f\"The number we passed is {is_even(15)}\")"
   ],
   "id": "7559fb8df4fa30a2",
   "outputs": [
    {
     "name": "stdout",
     "output_type": "stream",
     "text": [
      "The number we passed is even\n"
     ]
    }
   ],
   "execution_count": 6
  },
  {
   "metadata": {
    "ExecuteTime": {
     "end_time": "2025-08-25T20:59:07.652190Z",
     "start_time": "2025-08-25T20:59:07.649010Z"
    }
   },
   "cell_type": "code",
   "source": [
    "def longest_word(list_of_world):\n",
    "    max = len(list_of_world[0])\n",
    "    for i in list_of_world[1:]:\n",
    "        if len(i) > max: max = len(i)\n",
    "    return max\n",
    "word_list = [\"afdfad\", \"dfaf\", \"fadf\", \"ciao\"]\n",
    "print(\"The biggest string is\", longest_word(word_list))"
   ],
   "id": "5ddb4bfcc1697794",
   "outputs": [
    {
     "name": "stdout",
     "output_type": "stream",
     "text": [
      "The biggest string is 6\n"
     ]
    }
   ],
   "execution_count": 38
  },
  {
   "metadata": {
    "ExecuteTime": {
     "end_time": "2025-08-25T21:03:56.850837Z",
     "start_time": "2025-08-25T21:03:56.848204Z"
    }
   },
   "cell_type": "code",
   "source": [
    "def word_count(text = \"fafdafd\"):\n",
    "    cont = 0\n",
    "    for i in text:\n",
    "        cont += 1\n",
    "    return cont\n",
    "text = \"Danilo\"\n",
    "print(f\"The amount of char of the text {text} is {word_count(text)}\")\n"
   ],
   "id": "16f5653cc3015c88",
   "outputs": [
    {
     "name": "stdout",
     "output_type": "stream",
     "text": [
      "The amount of char of the text  Danilo is 6\n"
     ]
    }
   ],
   "execution_count": 43
  },
  {
   "metadata": {},
   "cell_type": "markdown",
   "source": [
    "# Advanced\n",
    "- Write a function factorial(n) that returns the factorial of a number n (e.g., 5! = 5 * 4 * 3 * 2 * 1).\n",
    "- Write a function fibonacci(n) that returns the first n numbers of the Fibonacci sequence.\n",
    "- Write a function search_list(lst, keyword) that returns all elements in a list containing the keyword."
   ],
   "id": "caa96b0aaf3e1f05"
  },
  {
   "metadata": {
    "ExecuteTime": {
     "end_time": "2025-08-25T21:11:16.273654Z",
     "start_time": "2025-08-25T21:11:16.270574Z"
    }
   },
   "cell_type": "code",
   "source": [
    "def factorial(n):\n",
    "    result = 1\n",
    "    i = n\n",
    "    while i > 0:\n",
    "        result *= i\n",
    "        i -= 1\n",
    "    return result\n",
    "n = 5\n",
    "print(f\"The result of the factorial of {n} is {factorial(n)}\")"
   ],
   "id": "95ec68679aa6634d",
   "outputs": [
    {
     "name": "stdout",
     "output_type": "stream",
     "text": [
      "The result of the factorial of 5 is 120\n"
     ]
    }
   ],
   "execution_count": 51
  },
  {
   "metadata": {
    "ExecuteTime": {
     "end_time": "2025-08-25T21:18:39.878076Z",
     "start_time": "2025-08-25T21:18:39.872962Z"
    }
   },
   "cell_type": "code",
   "source": [
    "def search_list(my_list, keyword):\n",
    "    result = None\n",
    "    for i in my_list:\n",
    "        if i is keyword:\n",
    "            result = i\n",
    "    return  result\n",
    "my_list = [1 , \"fadfad\", 243, \"fadfa\", True, \"Danilo\"]\n",
    "keyword = \"Danilo\"\n",
    "if search_list(my_list,keyword) is not None: print(search_list(my_list,keyword))\n",
    "else: print(f\"The keyword {keyword} is not inside the list\")"
   ],
   "id": "225b5f7912a6a06f",
   "outputs": [
    {
     "name": "stdout",
     "output_type": "stream",
     "text": [
      "Danilo\n"
     ]
    }
   ],
   "execution_count": 64
  }
 ],
 "metadata": {
  "kernelspec": {
   "display_name": "Python 3",
   "language": "python",
   "name": "python3"
  },
  "language_info": {
   "codemirror_mode": {
    "name": "ipython",
    "version": 2
   },
   "file_extension": ".py",
   "mimetype": "text/x-python",
   "name": "python",
   "nbconvert_exporter": "python",
   "pygments_lexer": "ipython2",
   "version": "2.7.6"
  }
 },
 "nbformat": 4,
 "nbformat_minor": 5
}
